{
 "cells": [
  {
   "cell_type": "code",
   "execution_count": 1,
   "metadata": {},
   "outputs": [
    {
     "name": "stdout",
     "output_type": "stream",
     "text": [
      "1 mahi\n",
      "2 Babi\n",
      "3 Malli\n",
      "4 Raju\n"
     ]
    }
   ],
   "source": [
    "#Autoincement Rollno when add student.\n",
    "class StudentDetails:\n",
    "    rollno=0\n",
    "    def __init__(self,name):\n",
    "        self.nos=StudentDetails.rollno+1\n",
    "        self.name=name\n",
    "        StudentDetails.rollno=self.nos\n",
    "\n",
    "s1=StudentDetails(\"mahi\")         \n",
    "print(s1.nos,s1.name)\n",
    "\n",
    "s2=StudentDetails(\"Babi\")  \n",
    "print(s2.nos,s2.name)\n",
    "\n",
    "s3=StudentDetails(\"Malli\")\n",
    "print(s3.nos,s3.name)\n",
    "\n",
    "s4=StudentDetails(\"Raju\")\n",
    "print(s4.nos,s4.name)\n"
   ]
  }
 ],
 "metadata": {
  "kernelspec": {
   "display_name": "Python 3",
   "language": "python",
   "name": "python3"
  },
  "language_info": {
   "codemirror_mode": {
    "name": "ipython",
    "version": 3
   },
   "file_extension": ".py",
   "mimetype": "text/x-python",
   "name": "python",
   "nbconvert_exporter": "python",
   "pygments_lexer": "ipython3",
   "version": "3.12.1"
  }
 },
 "nbformat": 4,
 "nbformat_minor": 2
}
