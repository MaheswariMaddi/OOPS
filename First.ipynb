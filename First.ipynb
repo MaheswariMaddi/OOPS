{
 "cells": [
  {
   "cell_type": "code",
   "execution_count": 16,
   "metadata": {},
   "outputs": [
    {
     "name": "stdout",
     "output_type": "stream",
     "text": [
      "my dog name is pappy\n",
      "pappy is a Ravi \n",
      "dappy is a Ravi \n",
      "my dog name is pappy\n"
     ]
    }
   ],
   "source": [
    "class dog:\n",
    "  attr=\"mammal\"\n",
    "  def __init__(self,name):\n",
    "    self.name=name\n",
    "  def print1(self):\n",
    "    print(f\"my dog name is {pappy.name}\")\n",
    "    \n",
    "pappy=dog('pappy')\n",
    "dappy=dog('dappy')\n",
    "\n",
    "print(f\"my dog name is {pappy.name}\")\n",
    "\n",
    "pappy.__class__.attr = 'Ravi'\n",
    "print(f'pappy is a {pappy.__class__.attr} ')\n",
    "\n",
    "print(f'dappy is a {dappy.__class__.attr} ')\n",
    "\n",
    "pappy.print1()"
   ]
  },
  {
   "cell_type": "code",
   "execution_count": 4,
   "metadata": {},
   "outputs": [
    {
     "name": "stdout",
     "output_type": "stream",
     "text": [
      "a\n",
      "b\n",
      "c\n",
      "{1: 'a', 2: 'b', 3: 'c'}\n"
     ]
    }
   ],
   "source": [
    "class students:\n",
    "    def __init__(self,student_name):\n",
    "        self.name=student_name\n",
    "r=[\"a\",\"b\",\"c\"]\n",
    "d={}\n",
    "c=1\n",
    "for i in r:\n",
    "    d[c]=i\n",
    "    n=students(i)\n",
    "    print(n.name)\n",
    "    c=c+1\n",
    "print(d)    \n"
   ]
  }
 ],
 "metadata": {
  "kernelspec": {
   "display_name": "Python 3",
   "language": "python",
   "name": "python3"
  },
  "language_info": {
   "codemirror_mode": {
    "name": "ipython",
    "version": 3
   },
   "file_extension": ".py",
   "mimetype": "text/x-python",
   "name": "python",
   "nbconvert_exporter": "python",
   "pygments_lexer": "ipython3",
   "version": "3.12.1"
  }
 },
 "nbformat": 4,
 "nbformat_minor": 2
}
