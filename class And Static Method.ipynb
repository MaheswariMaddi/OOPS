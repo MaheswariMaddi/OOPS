{
 "cells": [
  {
   "cell_type": "markdown",
   "metadata": {},
   "source": [
    " <h3><u>Class Method:</u></h3>\n",
    "<ul>\n",
    "<li>A method belongs to class and it can be invoked by the class name.</li>\n",
    "<li> It can access and update class attributes only.</li>\n",
    "<li>here we use @classmethod decarator.</li>\n",
    "<li>It takes class as a first argument.</li>\n",
    "</ul>"
   ]
  },
  {
   "cell_type": "code",
   "execution_count": 3,
   "metadata": {},
   "outputs": [
    {
     "name": "stdout",
     "output_type": "stream",
     "text": [
      "GGK\n",
      "Infy\n",
      "MSFT\n",
      "MSFT\n",
      "{'OrganizationName': 'Infy'}\n",
      "{}\n",
      "['OrganizationName', '__class__', '__delattr__', '__dict__', '__dir__', '__doc__', '__eq__', '__format__', '__ge__', '__getattribute__', '__getstate__', '__gt__', '__hash__', '__init__', '__init_subclass__', '__le__', '__lt__', '__module__', '__ne__', '__new__', '__reduce__', '__reduce_ex__', '__repr__', '__setattr__', '__sizeof__', '__str__', '__subclasshook__', '__weakref__']\n",
      "['OrganizationName', '__class__', '__delattr__', '__dict__', '__dir__', '__doc__', '__eq__', '__format__', '__ge__', '__getattribute__', '__getstate__', '__gt__', '__hash__', '__init__', '__init_subclass__', '__le__', '__lt__', '__module__', '__ne__', '__new__', '__reduce__', '__reduce_ex__', '__repr__', '__setattr__', '__sizeof__', '__str__', '__subclasshook__', '__weakref__']\n",
      "class attribute: MSFT\n"
     ]
    }
   ],
   "source": [
    "#Class Attribute\n",
    "class Employee:\n",
    "    OrganizationName = \"GGK\"\n",
    "print(Employee.OrganizationName)\n",
    "\n",
    "e1 = Employee()\n",
    "e2 = Employee()\n",
    "\n",
    "Employee.OrganizationName = \"MSFT\"\n",
    "e1.OrganizationName = \"Infy\"\n",
    "print(e1.OrganizationName)\n",
    "print(e2.OrganizationName)\n",
    "print(Employee.OrganizationName)\n",
    "\n",
    "# vars(): method gives instance attributes of an object\n",
    "print(vars(e1))\n",
    "print(vars(e2))\n",
    "\n",
    "#dir(): method gives instance and class attributes of an object\n",
    "print(dir(e1))\n",
    "print(dir(e2))\n",
    "\n",
    "class boss(Employee):\n",
    "    pass\n",
    "\n",
    "b=boss()\n",
    "print(\"class attribute:\",b.OrganizationName)\n"
   ]
  },
  {
   "cell_type": "code",
   "execution_count": 8,
   "metadata": {},
   "outputs": [
    {
     "name": "stdout",
     "output_type": "stream",
     "text": [
      "<class '__main__.Employee'>\n",
      "MSFT\n",
      "<class '__main__.Employee'>\n",
      "Cyient\n",
      "<class '__main__.Staff'>\n",
      "TCS\n",
      "Cyient\n"
     ]
    }
   ],
   "source": [
    "#Class Method\n",
    "class Employee:\n",
    "    OrganizationName = \"GGK\"\n",
    "\n",
    "    def __init__(self, name):\n",
    "        self.ename = name\n",
    "\n",
    "    @classmethod\n",
    "    def UpdateOrgName(cls, OrgName):\n",
    "        print(cls)\n",
    "        # print(cls.ename) \n",
    "        cls.OrganizationName = OrgName\n",
    "\n",
    "\n",
    "Employee.UpdateOrgName(\"MSFT\")\n",
    "print(Employee.OrganizationName)\n",
    "\n",
    "e1 = Employee(\"Rahul\")\n",
    "e1.UpdateOrgName(\"Cyient\")\n",
    "print(Employee.OrganizationName)\n",
    "\n",
    "class Staff(Employee):\n",
    "   pass\n",
    "\n",
    "s=Staff(\"Mahi\")\n",
    "Staff.UpdateOrgName(\"TCS\")\n",
    "\n",
    "print(Staff.OrganizationName)\n",
    "print(Employee.OrganizationName)"
   ]
  },
  {
   "cell_type": "markdown",
   "metadata": {},
   "source": [
    "\n",
    "<h3><u>Static Method:</u></h3> \n",
    "<ul>\n",
    "<li>Static method belongs to a class. It can't access both instance and class properties.</li>\n",
    "<li>It is used, to create utility methods.</li>\n",
    "<li>It can be accessed by class name.</li>\n",
    "<li>It doesn't take class as a first argument.</li>\n",
    "</ul>\n"
   ]
  },
  {
   "cell_type": "code",
   "execution_count": 5,
   "metadata": {},
   "outputs": [
    {
     "name": "stdout",
     "output_type": "stream",
     "text": [
      "True\n",
      "True\n",
      "Mahi True\n"
     ]
    }
   ],
   "source": [
    "class Student:\n",
    "\n",
    "    def __init__(self, name, stAge):\n",
    "        self.name = name\n",
    "        self.stAge = stAge\n",
    "\n",
    "    @staticmethod\n",
    "    def isStudentMajor(age):\n",
    "        return age >= 18\n",
    "    \n",
    "s1 = Student(\"Neha\", 19)\n",
    "print(Student.isStudentMajor(s1.stAge))\n",
    "print(s1.isStudentMajor(s1.stAge))\n",
    "\n",
    "class Teacher(Student):\n",
    "    pass\n",
    "#static method supports inheritance also.\n",
    "t=Teacher(\"Mahi\",20)\n",
    "print(t.name,t.isStudentMajor(t.stAge))"
   ]
  }
 ],
 "metadata": {
  "kernelspec": {
   "display_name": "Python 3",
   "language": "python",
   "name": "python3"
  },
  "language_info": {
   "codemirror_mode": {
    "name": "ipython",
    "version": 3
   },
   "file_extension": ".py",
   "mimetype": "text/x-python",
   "name": "python",
   "nbconvert_exporter": "python",
   "pygments_lexer": "ipython3",
   "version": "3.12.1"
  }
 },
 "nbformat": 4,
 "nbformat_minor": 2
}
