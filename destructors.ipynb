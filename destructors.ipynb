{
 "cells": [
  {
   "cell_type": "markdown",
   "metadata": {},
   "source": [
    "<h3>Destructors in Python</h3>\n",
    "<ul>\n",
    "\n",
    "<li>Destructors are called when an object gets destroyed.</li><li> In Python, destructors are not needed as much as in C++ because Python has a garbage collector that handles memory management automatically.</li> \n",
    "<li>The __del__() method is a known as a destructor method in Python. </li><li>It is called when all references to the object have been deleted i.e when an object is garbage collected.</li> "
   ]
  },
  {
   "cell_type": "code",
   "execution_count": 7,
   "metadata": {},
   "outputs": [
    {
     "name": "stdout",
     "output_type": "stream",
     "text": [
      "Color is initialized. <__main__.Color object at 0x000002B432585400>\n",
      "Color is initialized. <__main__.Color object at 0x000002B4325866F0>\n",
      "Color is destroyed <__main__.Color object at 0x000002B432585400>\n",
      "Color is destroyed <__main__.Color object at 0x000002B4325866F0>\n"
     ]
    }
   ],
   "source": [
    "# Python uses Memory Management or Garbage Collection\n",
    "\n",
    "class Color:\n",
    "\n",
    "    def __init__(obj):\n",
    "        print(\"Color is initialized.\", obj)\n",
    "    \n",
    "    def __del__(self):\n",
    "        print(\"Color is destroyed\", self)\n",
    "    \n",
    "red = Color()\n",
    "\n",
    "red = Color()\n",
    "\n",
    "del red"
   ]
  },
  {
   "cell_type": "code",
   "execution_count": 4,
   "metadata": {},
   "outputs": [
    {
     "name": "stdout",
     "output_type": "stream",
     "text": [
      "Human initialized mahi\n",
      "convertToEmployee started\n",
      "Employee initialized mahi\n",
      "emp name - mahi\n",
      "convertToEmployee ended\n",
      "Employee deleted mahi\n"
     ]
    }
   ],
   "source": [
    "class Employee:\n",
    "\n",
    "    def __init__(self, name):\n",
    "        self.name = name\n",
    "        print(\"Employee initialized\", name)\n",
    "    \n",
    "    def __del__(self):\n",
    "        print(\"Employee deleted\", self.name)\n",
    "\n",
    "class Human:\n",
    "\n",
    "    def __init__(self, name):\n",
    "        self.name = name\n",
    "        print(\"Human initialized\", self.name)\n",
    "\n",
    "    \n",
    "    def convertToEmployee(self):\n",
    "        print(\"convertToEmployee started\")\n",
    "        emp = Employee(self.name)\n",
    "        print(\"emp name -\", emp.name)\n",
    "        print(\"convertToEmployee ended\")\n",
    "    \n",
    "\n",
    "mahi = Human(\"mahi\")\n",
    "\n",
    "mahi.convertToEmployee()"
   ]
  }
 ],
 "metadata": {
  "kernelspec": {
   "display_name": "Python 3",
   "language": "python",
   "name": "python3"
  },
  "language_info": {
   "codemirror_mode": {
    "name": "ipython",
    "version": 3
   },
   "file_extension": ".py",
   "mimetype": "text/x-python",
   "name": "python",
   "nbconvert_exporter": "python",
   "pygments_lexer": "ipython3",
   "version": "3.12.1"
  }
 },
 "nbformat": 4,
 "nbformat_minor": 2
}
