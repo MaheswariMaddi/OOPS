{
 "cells": [
  {
   "cell_type": "code",
   "execution_count": 6,
   "metadata": {},
   "outputs": [
    {
     "data": {
      "text/plain": [
       "True"
      ]
     },
     "execution_count": 6,
     "metadata": {},
     "output_type": "execute_result"
    }
   ],
   "source": [
    "#Major program by using oops\n",
    "class Major:\n",
    "    def __init__(self,age):\n",
    "        self.PersonAge=age\n",
    "\n",
    "    def isMajor(self):\n",
    "        return self.PersonAge>=18\n",
    "    \n",
    "m=Major(19)\n",
    "m.isMajor()                "
   ]
  },
  {
   "cell_type": "code",
   "execution_count": 62,
   "metadata": {},
   "outputs": [
    {
     "name": "stdout",
     "output_type": "stream",
     "text": [
      "1 Mahi\n",
      "2 Babi\n",
      "[<__main__.Student object at 0x0000014D326318B0>, <__main__.Student object at 0x0000014D3260C380>]\n"
     ]
    }
   ],
   "source": [
    "#Check the rollno in the list whether it is in the list throw exepection.\n",
    "l=[]\n",
    "\n",
    "class Student:\n",
    "    def __init__(self,no,name):\n",
    "        for i in l:\n",
    "            if(i.sno==no):\n",
    "                raise  Exception(\" Number Alreday exist\")\n",
    "            \n",
    "            elif(i.name.lower()==name.lower()):\n",
    "                raise  Exception(\" Name alreday exist\")\n",
    "\n",
    "        self.sno=no\n",
    "        self.name=name\n",
    "        l.append(self)\n",
    "       \n",
    "        print(self.sno,self.name)\n",
    "\n",
    "s=Student(1,\"Mahi\") \n",
    "s1=Student(2,\"Babi\")   \n",
    " \n",
    "print(l)  \n",
    "\n",
    "\n"
   ]
  },
  {
   "cell_type": "code",
   "execution_count": 23,
   "metadata": {},
   "outputs": [
    {
     "ename": "Exception",
     "evalue": "student Age Is Not Sufficent To join This Course",
     "output_type": "error",
     "traceback": [
      "\u001b[1;31m---------------------------------------------------------------------------\u001b[0m",
      "\u001b[1;31mException\u001b[0m                                 Traceback (most recent call last)",
      "Cell \u001b[1;32mIn[23], line 10\u001b[0m\n\u001b[0;32m      8\u001b[0m         \u001b[38;5;28;01melse\u001b[39;00m:\n\u001b[0;32m      9\u001b[0m             \u001b[38;5;28;01mraise\u001b[39;00m \u001b[38;5;167;01mException\u001b[39;00m(\u001b[38;5;124m\"\u001b[39m\u001b[38;5;124mstudent Age Is Not Sufficent To join This Course\u001b[39m\u001b[38;5;124m\"\u001b[39m)\n\u001b[1;32m---> 10\u001b[0m a\u001b[38;5;241m=\u001b[39m\u001b[43mStudentage\u001b[49m\u001b[43m(\u001b[49m\u001b[38;5;241;43m17\u001b[39;49m\u001b[43m)\u001b[49m   \n\u001b[0;32m     11\u001b[0m \u001b[38;5;28mprint\u001b[39m(a\u001b[38;5;241m.\u001b[39mage)     \n",
      "Cell \u001b[1;32mIn[23], line 9\u001b[0m, in \u001b[0;36mStudentage.__init__\u001b[1;34m(self, age)\u001b[0m\n\u001b[0;32m      7\u001b[0m   \u001b[38;5;28mself\u001b[39m\u001b[38;5;241m.\u001b[39mage\u001b[38;5;241m=\u001b[39mage\n\u001b[0;32m      8\u001b[0m \u001b[38;5;28;01melse\u001b[39;00m:\n\u001b[1;32m----> 9\u001b[0m     \u001b[38;5;28;01mraise\u001b[39;00m \u001b[38;5;167;01mException\u001b[39;00m(\u001b[38;5;124m\"\u001b[39m\u001b[38;5;124mstudent Age Is Not Sufficent To join This Course\u001b[39m\u001b[38;5;124m\"\u001b[39m)\n",
      "\u001b[1;31mException\u001b[0m: student Age Is Not Sufficent To join This Course"
     ]
    }
   ],
   "source": [
    "#college student age must be>=18 if he/she <18 throw exepection.\n",
    "\n",
    "class Studentage:\n",
    "    def __init__(self,age):\n",
    "      \n",
    "        if(age>=18):\n",
    "          self.age=age\n",
    "        else:\n",
    "            raise Exception(\"student Age Is Not Sufficent To join This Course\")\n",
    "        \n",
    "a=Studentage(17)   \n",
    "print(a.age)     \n",
    "\n",
    "        \n"
   ]
  },
  {
   "cell_type": "code",
   "execution_count": 33,
   "metadata": {},
   "outputs": [
    {
     "name": "stdout",
     "output_type": "stream",
     "text": [
      "122222\n",
      "[<__main__.Employee object at 0x000001F6E254A450>]\n",
      "122222\n",
      "122222\n"
     ]
    },
    {
     "ename": "Exception",
     "evalue": "Duplicate Not Allow",
     "output_type": "error",
     "traceback": [
      "\u001b[1;31m---------------------------------------------------------------------------\u001b[0m",
      "\u001b[1;31mException\u001b[0m                                 Traceback (most recent call last)",
      "Cell \u001b[1;32mIn[33], line 19\u001b[0m\n\u001b[0;32m     17\u001b[0m         \u001b[38;5;28mprint\u001b[39m(\u001b[38;5;28mself\u001b[39m\u001b[38;5;241m.\u001b[39mid)\n\u001b[0;32m     18\u001b[0m e\u001b[38;5;241m=\u001b[39mEmployee(\u001b[38;5;124m\"\u001b[39m\u001b[38;5;124mMahi\u001b[39m\u001b[38;5;124m\"\u001b[39m,\u001b[38;5;124m\"\u001b[39m\u001b[38;5;124m122222\u001b[39m\u001b[38;5;124m\"\u001b[39m,\u001b[38;5;124m\"\u001b[39m\u001b[38;5;124mManager\u001b[39m\u001b[38;5;124m\"\u001b[39m)  \n\u001b[1;32m---> 19\u001b[0m e1\u001b[38;5;241m=\u001b[39m\u001b[43mEmployee\u001b[49m\u001b[43m(\u001b[49m\u001b[38;5;124;43m\"\u001b[39;49m\u001b[38;5;124;43mBabi\u001b[39;49m\u001b[38;5;124;43m\"\u001b[39;49m\u001b[43m,\u001b[49m\u001b[38;5;124;43m\"\u001b[39;49m\u001b[38;5;124;43m122222\u001b[39;49m\u001b[38;5;124;43m\"\u001b[39;49m\u001b[43m,\u001b[49m\u001b[38;5;124;43m\"\u001b[39;49m\u001b[38;5;124;43mDev\u001b[39;49m\u001b[38;5;124;43m\"\u001b[39;49m\u001b[43m)\u001b[49m\n\u001b[0;32m     21\u001b[0m \u001b[38;5;28mprint\u001b[39m(e\u001b[38;5;241m.\u001b[39mName,e\u001b[38;5;241m.\u001b[39mid,e\u001b[38;5;241m.\u001b[39mrole)     \n",
      "Cell \u001b[1;32mIn[33], line 11\u001b[0m, in \u001b[0;36mEmployee.__init__\u001b[1;34m(self, name, id, role)\u001b[0m\n\u001b[0;32m      9\u001b[0m \u001b[38;5;28;01mfor\u001b[39;00m i \u001b[38;5;129;01min\u001b[39;00m l:\n\u001b[0;32m     10\u001b[0m     \u001b[38;5;28;01mif\u001b[39;00m(i\u001b[38;5;241m.\u001b[39mid\u001b[38;5;241m==\u001b[39m\u001b[38;5;28mid\u001b[39m ):\n\u001b[1;32m---> 11\u001b[0m         \u001b[38;5;28;01mraise\u001b[39;00m \u001b[38;5;167;01mException\u001b[39;00m(\u001b[38;5;124m\"\u001b[39m\u001b[38;5;124mDuplicate Not Allow\u001b[39m\u001b[38;5;124m\"\u001b[39m)\n\u001b[0;32m     12\u001b[0m \u001b[38;5;28mself\u001b[39m\u001b[38;5;241m.\u001b[39mName\u001b[38;5;241m=\u001b[39mname\n\u001b[0;32m     13\u001b[0m \u001b[38;5;28mself\u001b[39m\u001b[38;5;241m.\u001b[39mid\u001b[38;5;241m=\u001b[39m\u001b[38;5;28mid\u001b[39m\n",
      "\u001b[1;31mException\u001b[0m: Duplicate Not Allow"
     ]
    }
   ],
   "source": [
    "#if employee id is Palindrome  or duplicate are not allow.\n",
    "l=[]\n",
    "class Employee:\n",
    "    def __init__(self,name,id,role):\n",
    "        a=id\n",
    "        print(a)\n",
    "        if(a==a[::-1]):\n",
    "            raise Exception(\"Palindrome NOt Allow\")\n",
    "        for i in l:\n",
    "            if(i.id==id ):\n",
    "                raise Exception(\"Duplicate Not Allow\")\n",
    "        self.Name=name\n",
    "        self.id=id\n",
    "        self.role=role\n",
    "        l.append(self)\n",
    "        print(l)\n",
    "        print(self.id)\n",
    "e=Employee(\"Mahi\",\"122222\",\"Manager\")  \n",
    "e1=Employee(\"Babi\",\"122222\",\"Dev\")\n",
    "  \n",
    "print(e.Name,e.id,e.role)     \n",
    "       "
   ]
  },
  {
   "cell_type": "code",
   "execution_count": 12,
   "metadata": {},
   "outputs": [
    {
     "name": "stdout",
     "output_type": "stream",
     "text": [
      "Palindrome\n"
     ]
    }
   ],
   "source": [
    "a=str(121)\n",
    "if(a==a[::-1]):\n",
    "    print(\"Palindrome\")\n",
    "else:\n",
    "    print(\"Hii\")    "
   ]
  },
  {
   "cell_type": "code",
   "execution_count": 23,
   "metadata": {},
   "outputs": [
    {
     "name": "stdout",
     "output_type": "stream",
     "text": [
      "[0, 0, 0, 0, '1', '1', '1']\n"
     ]
    }
   ],
   "source": [
    "n=[0,1,0,1,0,1,0]\n",
    "s=[]\n",
    "o=[]\n",
    "for i in n:\n",
    "    if(i==0):\n",
    "        s.append(0)\n",
    "    else:\n",
    "        o.append(\"1\")    \n",
    "print(s+o)        "
   ]
  },
  {
   "cell_type": "code",
   "execution_count": 9,
   "metadata": {},
   "outputs": [
    {
     "name": "stdout",
     "output_type": "stream",
     "text": [
      "0001111\n"
     ]
    }
   ],
   "source": [
    "class text:\n",
    "    s=''\n",
    "    def __init__(self,n):\n",
    "        self.N=n\n",
    "\n",
    "    def sorted(self):\n",
    "        self.s=\"\"\n",
    "        l=len(self.N)\n",
    "        c=0\n",
    "        for i in self.N:\n",
    "            if(i==0):\n",
    "                c=c+1\n",
    "        d=l-c        \n",
    "        self.s=c*(\"0\")+d*(\"1\")\n",
    "        print(self.s)\n",
    "\n",
    "t=text([0,1,0,1,0,1,1])\n",
    "t.sorted()\n"
   ]
  },
  {
   "cell_type": "code",
   "execution_count": 4,
   "metadata": {},
   "outputs": [
    {
     "name": "stdout",
     "output_type": "stream",
     "text": [
      "3.3333333333333335\n"
     ]
    }
   ],
   "source": [
    "for i in range(1,1):\n",
    "    print(i)\n",
    "print(10/3)    "
   ]
  }
 ],
 "metadata": {
  "kernelspec": {
   "display_name": "Python 3",
   "language": "python",
   "name": "python3"
  },
  "language_info": {
   "codemirror_mode": {
    "name": "ipython",
    "version": 3
   },
   "file_extension": ".py",
   "mimetype": "text/x-python",
   "name": "python",
   "nbconvert_exporter": "python",
   "pygments_lexer": "ipython3",
   "version": "3.12.2"
  }
 },
 "nbformat": 4,
 "nbformat_minor": 2
}
