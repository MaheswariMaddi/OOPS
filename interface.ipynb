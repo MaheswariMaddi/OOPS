{
 "cells": [
  {
   "cell_type": "markdown",
   "metadata": {},
   "source": [
    "Interface: Interface is type, which acts as a blueprint for a class. It should contain only abstract methods and they can be implemented in the child class by inherting the interface.\n",
    "\n",
    "Python doesn't have explicit interface keyword, it uses ABC to define interface."
   ]
  },
  {
   "cell_type": "code",
   "execution_count": 6,
   "metadata": {},
   "outputs": [
    {
     "name": "stdout",
     "output_type": "stream",
     "text": [
      "Gets the data from Mongo\n"
     ]
    }
   ],
   "source": [
    "from abc import ABC, abstractmethod\n",
    "\n",
    "class DataAcessInterface(ABC):\n",
    "    @abstractmethod\n",
    "    def ReadData(self):\n",
    "        pass\n",
    "\n",
    "\n",
    "class MSSQL(DataAcessInterface):\n",
    "    def ReadSQLData(self):\n",
    "        print(\"Gets the SQL db data\")\n",
    "\n",
    "    def ReadData(self):\n",
    "        self.ReadSQLData()\n",
    "\n",
    "class MongoDb(DataAcessInterface):\n",
    "    def ReadMongo(self):\n",
    "        print(\"Gets the data from Mongo\")\n",
    "\n",
    "    def ReadData(self):\n",
    "        self.ReadMongo()\n",
    "\n",
    "class Student:\n",
    "\n",
    "    def __init__(self, sqlCon):\n",
    "        self.sqlCon = sqlCon\n",
    "    def printStundents(self):\n",
    "        self.sqlCon.ReadData()\n",
    "\n",
    "dbCon = MongoDb()\n",
    "a = Student(dbCon)\n",
    "a.printStundents()\n",
    "\n"
   ]
  }
 ],
 "metadata": {
  "kernelspec": {
   "display_name": "Python 3",
   "language": "python",
   "name": "python3"
  },
  "language_info": {
   "codemirror_mode": {
    "name": "ipython",
    "version": 3
   },
   "file_extension": ".py",
   "mimetype": "text/x-python",
   "name": "python",
   "nbconvert_exporter": "python",
   "pygments_lexer": "ipython3",
   "version": "3.12.1"
  }
 },
 "nbformat": 4,
 "nbformat_minor": 2
}
